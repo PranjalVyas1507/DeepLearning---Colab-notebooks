{
  "nbformat": 4,
  "nbformat_minor": 0,
  "metadata": {
    "accelerator": "GPU",
    "colab": {
      "name": "Vision Transformers.ipynb",
      "provenance": [],
      "collapsed_sections": [],
      "authorship_tag": "ABX9TyMCbAnP+n5AlPe6xsJTay6I",
      "include_colab_link": true
    },
    "kernelspec": {
      "display_name": "Python 3",
      "name": "python3"
    },
    "language_info": {
      "name": "python"
    }
  },
  "cells": [
    {
      "cell_type": "markdown",
      "metadata": {
        "id": "view-in-github",
        "colab_type": "text"
      },
      "source": [
        "<a href=\"https://colab.research.google.com/github/PranjalVyas1507/DeepLearning---Colab-notebooks/blob/main/Vision_Transformers.ipynb\" target=\"_parent\"><img src=\"https://colab.research.google.com/assets/colab-badge.svg\" alt=\"Open In Colab\"/></a>"
      ]
    },
    {
      "cell_type": "code",
      "metadata": {
        "colab": {
          "base_uri": "https://localhost:8080/"
        },
        "id": "7bs8_x-QpZ-6",
        "outputId": "44babf62-38e9-4e37-f4c2-393f50a06dd2"
      },
      "source": [
        "!pip install -U tensorflow-addons"
      ],
      "execution_count": null,
      "outputs": [
        {
          "output_type": "stream",
          "name": "stdout",
          "text": [
            "Collecting tensorflow-addons\n",
            "  Downloading tensorflow_addons-0.14.0-cp37-cp37m-manylinux_2_12_x86_64.manylinux2010_x86_64.whl (1.1 MB)\n",
            "\u001b[?25l\r\u001b[K     |▎                               | 10 kB 27.7 MB/s eta 0:00:01\r\u001b[K     |▋                               | 20 kB 8.7 MB/s eta 0:00:01\r\u001b[K     |▉                               | 30 kB 7.9 MB/s eta 0:00:01\r\u001b[K     |█▏                              | 40 kB 7.3 MB/s eta 0:00:01\r\u001b[K     |█▌                              | 51 kB 4.0 MB/s eta 0:00:01\r\u001b[K     |█▊                              | 61 kB 4.2 MB/s eta 0:00:01\r\u001b[K     |██                              | 71 kB 4.4 MB/s eta 0:00:01\r\u001b[K     |██▍                             | 81 kB 5.0 MB/s eta 0:00:01\r\u001b[K     |██▋                             | 92 kB 3.7 MB/s eta 0:00:01\r\u001b[K     |███                             | 102 kB 4.0 MB/s eta 0:00:01\r\u001b[K     |███▎                            | 112 kB 4.0 MB/s eta 0:00:01\r\u001b[K     |███▌                            | 122 kB 4.0 MB/s eta 0:00:01\r\u001b[K     |███▉                            | 133 kB 4.0 MB/s eta 0:00:01\r\u001b[K     |████▏                           | 143 kB 4.0 MB/s eta 0:00:01\r\u001b[K     |████▍                           | 153 kB 4.0 MB/s eta 0:00:01\r\u001b[K     |████▊                           | 163 kB 4.0 MB/s eta 0:00:01\r\u001b[K     |█████                           | 174 kB 4.0 MB/s eta 0:00:01\r\u001b[K     |█████▎                          | 184 kB 4.0 MB/s eta 0:00:01\r\u001b[K     |█████▋                          | 194 kB 4.0 MB/s eta 0:00:01\r\u001b[K     |██████                          | 204 kB 4.0 MB/s eta 0:00:01\r\u001b[K     |██████▏                         | 215 kB 4.0 MB/s eta 0:00:01\r\u001b[K     |██████▌                         | 225 kB 4.0 MB/s eta 0:00:01\r\u001b[K     |██████▉                         | 235 kB 4.0 MB/s eta 0:00:01\r\u001b[K     |███████                         | 245 kB 4.0 MB/s eta 0:00:01\r\u001b[K     |███████▍                        | 256 kB 4.0 MB/s eta 0:00:01\r\u001b[K     |███████▊                        | 266 kB 4.0 MB/s eta 0:00:01\r\u001b[K     |████████                        | 276 kB 4.0 MB/s eta 0:00:01\r\u001b[K     |████████▎                       | 286 kB 4.0 MB/s eta 0:00:01\r\u001b[K     |████████▋                       | 296 kB 4.0 MB/s eta 0:00:01\r\u001b[K     |████████▉                       | 307 kB 4.0 MB/s eta 0:00:01\r\u001b[K     |█████████▏                      | 317 kB 4.0 MB/s eta 0:00:01\r\u001b[K     |█████████▌                      | 327 kB 4.0 MB/s eta 0:00:01\r\u001b[K     |█████████▊                      | 337 kB 4.0 MB/s eta 0:00:01\r\u001b[K     |██████████                      | 348 kB 4.0 MB/s eta 0:00:01\r\u001b[K     |██████████▍                     | 358 kB 4.0 MB/s eta 0:00:01\r\u001b[K     |██████████▋                     | 368 kB 4.0 MB/s eta 0:00:01\r\u001b[K     |███████████                     | 378 kB 4.0 MB/s eta 0:00:01\r\u001b[K     |███████████▎                    | 389 kB 4.0 MB/s eta 0:00:01\r\u001b[K     |███████████▌                    | 399 kB 4.0 MB/s eta 0:00:01\r\u001b[K     |███████████▉                    | 409 kB 4.0 MB/s eta 0:00:01\r\u001b[K     |████████████▏                   | 419 kB 4.0 MB/s eta 0:00:01\r\u001b[K     |████████████▍                   | 430 kB 4.0 MB/s eta 0:00:01\r\u001b[K     |████████████▊                   | 440 kB 4.0 MB/s eta 0:00:01\r\u001b[K     |█████████████                   | 450 kB 4.0 MB/s eta 0:00:01\r\u001b[K     |█████████████▎                  | 460 kB 4.0 MB/s eta 0:00:01\r\u001b[K     |█████████████▋                  | 471 kB 4.0 MB/s eta 0:00:01\r\u001b[K     |██████████████                  | 481 kB 4.0 MB/s eta 0:00:01\r\u001b[K     |██████████████▏                 | 491 kB 4.0 MB/s eta 0:00:01\r\u001b[K     |██████████████▌                 | 501 kB 4.0 MB/s eta 0:00:01\r\u001b[K     |██████████████▉                 | 512 kB 4.0 MB/s eta 0:00:01\r\u001b[K     |███████████████                 | 522 kB 4.0 MB/s eta 0:00:01\r\u001b[K     |███████████████▍                | 532 kB 4.0 MB/s eta 0:00:01\r\u001b[K     |███████████████▊                | 542 kB 4.0 MB/s eta 0:00:01\r\u001b[K     |████████████████                | 552 kB 4.0 MB/s eta 0:00:01\r\u001b[K     |████████████████▎               | 563 kB 4.0 MB/s eta 0:00:01\r\u001b[K     |████████████████▋               | 573 kB 4.0 MB/s eta 0:00:01\r\u001b[K     |████████████████▉               | 583 kB 4.0 MB/s eta 0:00:01\r\u001b[K     |█████████████████▏              | 593 kB 4.0 MB/s eta 0:00:01\r\u001b[K     |█████████████████▌              | 604 kB 4.0 MB/s eta 0:00:01\r\u001b[K     |█████████████████▊              | 614 kB 4.0 MB/s eta 0:00:01\r\u001b[K     |██████████████████              | 624 kB 4.0 MB/s eta 0:00:01\r\u001b[K     |██████████████████▍             | 634 kB 4.0 MB/s eta 0:00:01\r\u001b[K     |██████████████████▋             | 645 kB 4.0 MB/s eta 0:00:01\r\u001b[K     |███████████████████             | 655 kB 4.0 MB/s eta 0:00:01\r\u001b[K     |███████████████████▎            | 665 kB 4.0 MB/s eta 0:00:01\r\u001b[K     |███████████████████▌            | 675 kB 4.0 MB/s eta 0:00:01\r\u001b[K     |███████████████████▉            | 686 kB 4.0 MB/s eta 0:00:01\r\u001b[K     |████████████████████▏           | 696 kB 4.0 MB/s eta 0:00:01\r\u001b[K     |████████████████████▍           | 706 kB 4.0 MB/s eta 0:00:01\r\u001b[K     |████████████████████▊           | 716 kB 4.0 MB/s eta 0:00:01\r\u001b[K     |█████████████████████           | 727 kB 4.0 MB/s eta 0:00:01\r\u001b[K     |█████████████████████▎          | 737 kB 4.0 MB/s eta 0:00:01\r\u001b[K     |█████████████████████▋          | 747 kB 4.0 MB/s eta 0:00:01\r\u001b[K     |██████████████████████          | 757 kB 4.0 MB/s eta 0:00:01\r\u001b[K     |██████████████████████▏         | 768 kB 4.0 MB/s eta 0:00:01\r\u001b[K     |██████████████████████▌         | 778 kB 4.0 MB/s eta 0:00:01\r\u001b[K     |██████████████████████▉         | 788 kB 4.0 MB/s eta 0:00:01\r\u001b[K     |███████████████████████         | 798 kB 4.0 MB/s eta 0:00:01\r\u001b[K     |███████████████████████▍        | 808 kB 4.0 MB/s eta 0:00:01\r\u001b[K     |███████████████████████▊        | 819 kB 4.0 MB/s eta 0:00:01\r\u001b[K     |████████████████████████        | 829 kB 4.0 MB/s eta 0:00:01\r\u001b[K     |████████████████████████▎       | 839 kB 4.0 MB/s eta 0:00:01\r\u001b[K     |████████████████████████▋       | 849 kB 4.0 MB/s eta 0:00:01\r\u001b[K     |████████████████████████▉       | 860 kB 4.0 MB/s eta 0:00:01\r\u001b[K     |█████████████████████████▏      | 870 kB 4.0 MB/s eta 0:00:01\r\u001b[K     |█████████████████████████▍      | 880 kB 4.0 MB/s eta 0:00:01\r\u001b[K     |█████████████████████████▊      | 890 kB 4.0 MB/s eta 0:00:01\r\u001b[K     |██████████████████████████      | 901 kB 4.0 MB/s eta 0:00:01\r\u001b[K     |██████████████████████████▎     | 911 kB 4.0 MB/s eta 0:00:01\r\u001b[K     |██████████████████████████▋     | 921 kB 4.0 MB/s eta 0:00:01\r\u001b[K     |███████████████████████████     | 931 kB 4.0 MB/s eta 0:00:01\r\u001b[K     |███████████████████████████▏    | 942 kB 4.0 MB/s eta 0:00:01\r\u001b[K     |███████████████████████████▌    | 952 kB 4.0 MB/s eta 0:00:01\r\u001b[K     |███████████████████████████▉    | 962 kB 4.0 MB/s eta 0:00:01\r\u001b[K     |████████████████████████████    | 972 kB 4.0 MB/s eta 0:00:01\r\u001b[K     |████████████████████████████▍   | 983 kB 4.0 MB/s eta 0:00:01\r\u001b[K     |████████████████████████████▊   | 993 kB 4.0 MB/s eta 0:00:01\r\u001b[K     |█████████████████████████████   | 1.0 MB 4.0 MB/s eta 0:00:01\r\u001b[K     |█████████████████████████████▎  | 1.0 MB 4.0 MB/s eta 0:00:01\r\u001b[K     |█████████████████████████████▋  | 1.0 MB 4.0 MB/s eta 0:00:01\r\u001b[K     |█████████████████████████████▉  | 1.0 MB 4.0 MB/s eta 0:00:01\r\u001b[K     |██████████████████████████████▏ | 1.0 MB 4.0 MB/s eta 0:00:01\r\u001b[K     |██████████████████████████████▌ | 1.1 MB 4.0 MB/s eta 0:00:01\r\u001b[K     |██████████████████████████████▊ | 1.1 MB 4.0 MB/s eta 0:00:01\r\u001b[K     |███████████████████████████████ | 1.1 MB 4.0 MB/s eta 0:00:01\r\u001b[K     |███████████████████████████████▍| 1.1 MB 4.0 MB/s eta 0:00:01\r\u001b[K     |███████████████████████████████▋| 1.1 MB 4.0 MB/s eta 0:00:01\r\u001b[K     |████████████████████████████████| 1.1 MB 4.0 MB/s eta 0:00:01\r\u001b[K     |████████████████████████████████| 1.1 MB 4.0 MB/s \n",
            "\u001b[?25hRequirement already satisfied: typeguard>=2.7 in /usr/local/lib/python3.7/dist-packages (from tensorflow-addons) (2.7.1)\n",
            "Installing collected packages: tensorflow-addons\n",
            "Successfully installed tensorflow-addons-0.14.0\n"
          ]
        }
      ]
    },
    {
      "cell_type": "code",
      "metadata": {
        "id": "izLToYQtrgUH"
      },
      "source": [
        "import tensorflow as tf\n",
        "import tensorflow.keras as keras"
      ],
      "execution_count": null,
      "outputs": []
    },
    {
      "cell_type": "code",
      "metadata": {
        "id": "5lbWZh0Xr32O"
      },
      "source": [
        "from keras.layers import Dense, MultiHeadAttention, BatchNormalization\n",
        "import numpy as np\n",
        "import tensorflow_addons as tfa "
      ],
      "execution_count": null,
      "outputs": []
    },
    {
      "cell_type": "code",
      "metadata": {
        "colab": {
          "base_uri": "https://localhost:8080/"
        },
        "id": "-JYHVMhiy6bK",
        "outputId": "8665f69a-fe0d-4751-c47e-5b3b7b6f3d9d"
      },
      "source": [
        "num_classes = 100\n",
        "(x_train, y_train), (x_test, y_test) = keras.datasets.cifar100.load_data()\n",
        "\n",
        "print(f\"x_train shape: {x_train.shape} - y_train shape: {y_train.shape}\")\n",
        "print(f\"x_test shape: {x_test.shape} - y_test shape: {y_test.shape}\") "
      ],
      "execution_count": null,
      "outputs": [
        {
          "output_type": "stream",
          "name": "stdout",
          "text": [
            "Downloading data from https://www.cs.toronto.edu/~kriz/cifar-100-python.tar.gz\n",
            "169009152/169001437 [==============================] - 11s 0us/step\n",
            "169017344/169001437 [==============================] - 11s 0us/step\n",
            "x_train shape: (50000, 32, 32, 3) - y_train shape: (50000, 1)\n",
            "x_test shape: (10000, 32, 32, 3) - y_test shape: (10000, 1)\n"
          ]
        }
      ]
    },
    {
      "cell_type": "code",
      "metadata": {
        "id": "TRRGid6vy6iy"
      },
      "source": [
        "learning_rate = 0.0001\n",
        "weight_decay = 0.00001\n",
        "\n",
        "epochs = 200\n",
        "batch_size = 256\n",
        "image_size = 72\n",
        "patch_size = 6\n",
        "num_patches = (image_size // patch_size) ** 2\n",
        "\n",
        "projection_dim = 64\n",
        "num_heads = 4\n",
        "transformer_units = [\n",
        "    projection_dim * 2,\n",
        "    projection_dim,\n",
        "]  # Size of the transformer layers\n",
        "transformer_layers = 8\n",
        "mlp_head_units = [2048, 1024] "
      ],
      "execution_count": null,
      "outputs": []
    },
    {
      "cell_type": "code",
      "metadata": {
        "id": "uRE0VRfhum_q"
      },
      "source": [
        "from keras import Sequential\n",
        "from keras.layers import Normalization, Resizing, RandomFlip, RandomRotation, RandomZoom"
      ],
      "execution_count": null,
      "outputs": []
    },
    {
      "cell_type": "code",
      "metadata": {
        "id": "lM3ZPeL5y7N8"
      },
      "source": [
        "data_augmentation = Sequential(\n",
        "    [\n",
        "      Normalization(),\n",
        "     Resizing(image_size,image_size),\n",
        "     RandomFlip(\"horizontal\"),\n",
        "     RandomRotation(0.0002),\n",
        "     RandomZoom(height_factor=0.2,width_factor=0.2)\n",
        "    ],\n",
        "    name=\"data_augmentation\")\n",
        "\n",
        "data_augmentation.layers[0].adapt(x_train)"
      ],
      "execution_count": null,
      "outputs": []
    },
    {
      "cell_type": "code",
      "metadata": {
        "id": "hom3jEoI4Exw"
      },
      "source": [
        "def mlp(x, hidden_units,dropout):\n",
        "  for units in hidden_units:\n",
        "    x = Dense(units,activation='relu')(x)\n",
        "    x = Dropout(dropout)(x)\n",
        "  return x"
      ],
      "execution_count": null,
      "outputs": []
    },
    {
      "cell_type": "code",
      "metadata": {
        "id": "rafdl8-eJHwh"
      },
      "source": [
        "from keras.layers import Layer\n",
        "\n",
        "class Patch(Layer):\n",
        "  def __init__(self,patch_size):\n",
        "    super(Patch, self).__init__()\n",
        "    self.patch_size = patch_size\n",
        "\n",
        "  def call(self, images):\n",
        "    batch_size = tf.shape(images)[0]\n",
        "    patches = tf.image.extract_patches(\n",
        "        images = images,\n",
        "        sizes = [1, self.patch_size, self.patch_size, 1],\n",
        "        strides = [1, self.patch_size, self.patch_size, 1],\n",
        "        rates = [1,1,1,1],\n",
        "        padding = \"VALID\",\n",
        "    )\n",
        "\n",
        "    patch_dims = patches.shape[-1]\n",
        "    patches = tf.reshape(patches,[batch_size, -1, patch_dims])\n",
        "    return patches"
      ],
      "execution_count": null,
      "outputs": []
    },
    {
      "cell_type": "code",
      "metadata": {
        "colab": {
          "base_uri": "https://localhost:8080/",
          "height": 546
        },
        "id": "FfcBs8pKY6gi",
        "outputId": "4d3c82af-750c-4863-f4b4-eaaa5973bae2"
      },
      "source": [
        "import matplotlib.pyplot as plt\n",
        "\n",
        "plt.figure(figsize=(4, 4))\n",
        "image = x_train[np.random.choice(range(x_train.shape[0]))]\n",
        "plt.imshow(image.astype(\"uint8\"))\n",
        "plt.axis(\"off\")\n",
        "\n",
        "resized_image = tf.image.resize(\n",
        "    tf.convert_to_tensor([image]), size=(image_size, image_size)\n",
        ")\n",
        "patches = Patch(patch_size)(resized_image)\n",
        "print(f\"Image size: {image_size} X {image_size}\")\n",
        "print(f\"Patch size: {patch_size} X {patch_size}\")\n",
        "print(f\"Patches per image: {patches.shape[1]}\")\n",
        "print(f\"Elements per patch: {patches.shape[-1]}\")\n",
        "\n",
        "n = int(np.sqrt(patches.shape[1]))\n",
        "plt.figure(figsize=(4, 4))\n",
        "for i, patch in enumerate(patches[0]):\n",
        "    ax = plt.subplot(n, n, i + 1)\n",
        "    patch_img = tf.reshape(patch, (patch_size, patch_size, 3))\n",
        "    plt.imshow(patch_img.numpy().astype(\"uint8\"))\n",
        "    plt.axis(\"off\")"
      ],
      "execution_count": null,
      "outputs": [
        {
          "output_type": "stream",
          "name": "stdout",
          "text": [
            "Image size: 72 X 72\n",
            "Patch size: 6 X 6\n",
            "Patches per image: 144\n",
            "Elements per patch: 108\n"
          ]
        },
        {
          "output_type": "display_data",
          "data": {
            "image/png": "[encoded data removed]",
            "text/plain": [
              "<Figure size 288x288 with 1 Axes>"
            ]
          },
          "metadata": {
            "needs_background": "light"
          }
        },
        {
          "output_type": "display_data",
          "data": {
            "image/png": "[encoded data removed]",
            "text/plain": [
              "<Figure size 288x288 with 144 Axes>"
            ]
          },
          "metadata": {
            "needs_background": "light"
          }
        }
      ]
    },
    {
      "cell_type": "code",
      "metadata": {
        "id": "K7JGIeBVaAEO"
      },
      "source": [
        "class PatchEncoder(Layer):\n",
        "  def __init__(self, num_patches, projection_dim):\n",
        "    super(PatchEncoder, self).__init__()\n",
        "    self.num_patches = num_patches\n",
        "    self.projection = keras.layers.Dense(units=projection_dim)\n",
        "    self.position_embedding = keras.layers.Embedding(input_dim=num_patches, \n",
        "                                               output_dim=projection_dim\n",
        "                                               )\n",
        "\n",
        "  def call(self, patch):\n",
        "    positions = tf.range(start=0, limit=self.num_patches, delta=1)\n",
        "    encoded = self.projection(patch) + self.position_embedding(positions)\n",
        "    return encoded"
      ],
      "execution_count": null,
      "outputs": []
    },
    {
      "cell_type": "code",
      "metadata": {
        "id": "S35w0Aa9coyo"
      },
      "source": [
        "from keras.layers import Input, LayerNormalization, Add, Flatten, Dropout\n",
        "from keras import Model\n",
        "input_shape = (32, 32, 3)\n",
        "\n",
        "\n",
        "\n",
        "def create_vit_classifier():\n",
        "  inputs = Input(shape=input_shape)\n",
        "  augmented = data_augmentation(inputs)\n",
        "  patches = Patch(patch_size)(augmented)\n",
        "  encoded_patches = PatchEncoder(num_patches, projection_dim)(patches)\n",
        "\n",
        "  for _ in range(transformer_layers):\n",
        "    x1 = LayerNormalization(epsilon=1e-6)(encoded_patches)\n",
        "    attention_output = MultiHeadAttention(num_heads=num_heads, \n",
        "                                          key_dim=projection_dim, dropout=0.1)(x1,x1)\n",
        "    x2 = Add()([attention_output,encoded_patches])\n",
        "    x3 = LayerNormalization(epsilon=1e-6)(x2)\n",
        "    x3 = mlp(x3, hidden_units=transformer_units, dropout=0.1)\n",
        "\n",
        "    encoded_patches = Add()([x3,x2])\n",
        "\n",
        "  representation = LayerNormalization(epsilon=1e-6)(encoded_patches)\n",
        "  representation = Flatten()(representation)\n",
        "  representation = Dropout(0.5)(representation)\n",
        "\n",
        "  features = mlp(representation, hidden_units=mlp_head_units, dropout=0.5)\n",
        "  logits = Dense(num_classes)(features)\n",
        "  model = Model(inputs=inputs, outputs=logits)\n",
        "\n",
        "  return model\n"
      ],
      "execution_count": null,
      "outputs": []
    },
    {
      "cell_type": "code",
      "metadata": {
        "colab": {
          "base_uri": "https://localhost:8080/",
          "height": 1000
        },
        "id": "N6HZ_0iBccT7",
        "outputId": "238553ad-81c6-4468-8486-e2ca458d5511"
      },
      "source": [
        "def run(model):\n",
        "  optimizer = tfa.optimizers.AdamW(learning_rate=learning_rate, weight_decay=weight_decay)\n",
        "\n",
        "  model.compile(optimizer=optimizer, \n",
        "                loss=keras.losses.SparseCategoricalCrossentropy(from_logits=True),\n",
        "                metrics = [\n",
        "                           keras.metrics.SparseCategoricalAccuracy(name=\"accuracy\"),\n",
        "                           keras.metrics.SparseTopKCategoricalAccuracy(5,name=\"top5accuracy\")\n",
        "                ]\n",
        "  )\n",
        "\n",
        "  checkpoint_filepath = \"/tmp/checkpoint\"\n",
        "  checkpoint_callback = keras.callbacks.ModelCheckpoint(\n",
        "      checkpoint_filepath,\n",
        "      monitor = \"val_accuracy\",\n",
        "      save_best_only = True,\n",
        "      save_weights_only = True\n",
        "  )\n",
        "\n",
        "  history = model.fit(x=x_train, y=y_train, batch_size=batch_size, epochs= 75, validation_split = 0.1, callbacks=[checkpoint_callback])\n",
        "\n",
        "  model.load_weights(checkpoint_filepath)\n",
        "  _, accuracy, top_5_accuracy = model.evaluate(x_test, y_test)\n",
        "\n",
        "  print(f\"Test accuracy: {round(accuracy * 100, 2)}%\")\n",
        "  print(f\"Test top 5 accuracy: {round(top_5_accuracy * 100, 2)}%\")\n",
        "\n",
        "  return history\n",
        "\n",
        "vit_classifier = create_vit_classifier()\n",
        "history = run(vit_classifier)  "
      ],
      "execution_count": 13,
      "outputs": [
        {
          "output_type": "stream",
          "name": "stdout",
          "text": [
            "Epoch 1/75\n",
            "176/176 [==============================] - 148s 766ms/step - loss: 4.7996 - accuracy: 0.0266 - top5accuracy: 0.1014 - val_loss: 4.3012 - val_accuracy: 0.0686 - val_top5accuracy: 0.2236\n",
            "Epoch 2/75\n",
            "176/176 [==============================] - 134s 764ms/step - loss: 4.3300 - accuracy: 0.0538 - top5accuracy: 0.1840 - val_loss: 4.0341 - val_accuracy: 0.1104 - val_top5accuracy: 0.3034\n",
            "Epoch 3/75\n",
            "176/176 [==============================] - 135s 765ms/step - loss: 4.1338 - accuracy: 0.0772 - top5accuracy: 0.2400 - val_loss: 3.8412 - val_accuracy: 0.1282 - val_top5accuracy: 0.3430\n",
            "Epoch 4/75\n",
            "176/176 [==============================] - 135s 767ms/step - loss: 3.9899 - accuracy: 0.0947 - top5accuracy: 0.2835 - val_loss: 3.7134 - val_accuracy: 0.1464 - val_top5accuracy: 0.3704\n",
            "Epoch 5/75\n",
            "176/176 [==============================] - 135s 766ms/step - loss: 3.8698 - accuracy: 0.1114 - top5accuracy: 0.3145 - val_loss: 3.5715 - val_accuracy: 0.1646 - val_top5accuracy: 0.4144\n",
            "Epoch 6/75\n",
            "176/176 [==============================] - 135s 766ms/step - loss: 3.7584 - accuracy: 0.1258 - top5accuracy: 0.3469 - val_loss: 3.4664 - val_accuracy: 0.1834 - val_top5accuracy: 0.4390\n",
            "Epoch 7/75\n",
            "176/176 [==============================] - 135s 767ms/step - loss: 3.6597 - accuracy: 0.1439 - top5accuracy: 0.3788 - val_loss: 3.3413 - val_accuracy: 0.2020 - val_top5accuracy: 0.4682\n",
            "Epoch 8/75\n",
            "176/176 [==============================] - 135s 766ms/step - loss: 3.5705 - accuracy: 0.1578 - top5accuracy: 0.4020 - val_loss: 3.2709 - val_accuracy: 0.2178 - val_top5accuracy: 0.4950\n",
            "Epoch 9/75\n",
            "176/176 [==============================] - 135s 766ms/step - loss: 3.4782 - accuracy: 0.1736 - top5accuracy: 0.4292 - val_loss: 3.1607 - val_accuracy: 0.2400 - val_top5accuracy: 0.5160\n",
            "Epoch 10/75\n",
            "176/176 [==============================] - 135s 766ms/step - loss: 3.4081 - accuracy: 0.1858 - top5accuracy: 0.4497 - val_loss: 3.0919 - val_accuracy: 0.2500 - val_top5accuracy: 0.5348\n",
            "Epoch 11/75\n",
            "176/176 [==============================] - 135s 767ms/step - loss: 3.3286 - accuracy: 0.2001 - top5accuracy: 0.4680 - val_loss: 3.0336 - val_accuracy: 0.2678 - val_top5accuracy: 0.5556\n",
            "Epoch 12/75\n",
            "176/176 [==============================] - 135s 767ms/step - loss: 3.2593 - accuracy: 0.2116 - top5accuracy: 0.4893 - val_loss: 2.9962 - val_accuracy: 0.2752 - val_top5accuracy: 0.5636\n",
            "Epoch 13/75\n",
            "176/176 [==============================] - 135s 766ms/step - loss: 3.1862 - accuracy: 0.2233 - top5accuracy: 0.5081 - val_loss: 2.9133 - val_accuracy: 0.2890 - val_top5accuracy: 0.5758\n",
            "Epoch 14/75\n",
            "176/176 [==============================] - 135s 767ms/step - loss: 3.1356 - accuracy: 0.2343 - top5accuracy: 0.5215 - val_loss: 2.8764 - val_accuracy: 0.2980 - val_top5accuracy: 0.5908\n",
            "Epoch 15/75\n",
            "176/176 [==============================] - 135s 767ms/step - loss: 3.0739 - accuracy: 0.2457 - top5accuracy: 0.5355 - val_loss: 2.8308 - val_accuracy: 0.3048 - val_top5accuracy: 0.5958\n",
            "Epoch 16/75\n",
            "176/176 [==============================] - 135s 767ms/step - loss: 3.0228 - accuracy: 0.2540 - top5accuracy: 0.5498 - val_loss: 2.7673 - val_accuracy: 0.3192 - val_top5accuracy: 0.6126\n",
            "Epoch 17/75\n",
            "176/176 [==============================] - 135s 766ms/step - loss: 2.9742 - accuracy: 0.2646 - top5accuracy: 0.5592 - val_loss: 2.7312 - val_accuracy: 0.3202 - val_top5accuracy: 0.6222\n",
            "Epoch 18/75\n",
            "176/176 [==============================] - 135s 767ms/step - loss: 2.9230 - accuracy: 0.2737 - top5accuracy: 0.5735 - val_loss: 2.6914 - val_accuracy: 0.3326 - val_top5accuracy: 0.6248\n",
            "Epoch 19/75\n",
            "176/176 [==============================] - 135s 767ms/step - loss: 2.8864 - accuracy: 0.2814 - top5accuracy: 0.5824 - val_loss: 2.6630 - val_accuracy: 0.3376 - val_top5accuracy: 0.6316\n",
            "Epoch 20/75\n",
            "176/176 [==============================] - 135s 766ms/step - loss: 2.8357 - accuracy: 0.2923 - top5accuracy: 0.5948 - val_loss: 2.6319 - val_accuracy: 0.3422 - val_top5accuracy: 0.6412\n",
            "Epoch 21/75\n",
            "176/176 [==============================] - 134s 764ms/step - loss: 2.7918 - accuracy: 0.2967 - top5accuracy: 0.6044 - val_loss: 2.6150 - val_accuracy: 0.3438 - val_top5accuracy: 0.6436\n",
            "Epoch 22/75\n",
            "176/176 [==============================] - 135s 765ms/step - loss: 2.7598 - accuracy: 0.3068 - top5accuracy: 0.6118 - val_loss: 2.5650 - val_accuracy: 0.3492 - val_top5accuracy: 0.6566\n",
            "Epoch 23/75\n",
            "176/176 [==============================] - 135s 767ms/step - loss: 2.7224 - accuracy: 0.3143 - top5accuracy: 0.6211 - val_loss: 2.5393 - val_accuracy: 0.3588 - val_top5accuracy: 0.6588\n",
            "Epoch 24/75\n",
            "176/176 [==============================] - 134s 761ms/step - loss: 2.6680 - accuracy: 0.3256 - top5accuracy: 0.6348 - val_loss: 2.5198 - val_accuracy: 0.3616 - val_top5accuracy: 0.6664\n",
            "Epoch 25/75\n",
            "176/176 [==============================] - 134s 763ms/step - loss: 2.6304 - accuracy: 0.3317 - top5accuracy: 0.6443 - val_loss: 2.4764 - val_accuracy: 0.3722 - val_top5accuracy: 0.6756\n",
            "Epoch 26/75\n",
            "176/176 [==============================] - 134s 763ms/step - loss: 2.5945 - accuracy: 0.3410 - top5accuracy: 0.6490 - val_loss: 2.4658 - val_accuracy: 0.3772 - val_top5accuracy: 0.6770\n",
            "Epoch 27/75\n",
            "176/176 [==============================] - 134s 761ms/step - loss: 2.5681 - accuracy: 0.3431 - top5accuracy: 0.6560 - val_loss: 2.4311 - val_accuracy: 0.3828 - val_top5accuracy: 0.6854\n",
            "Epoch 28/75\n",
            "176/176 [==============================] - 134s 761ms/step - loss: 2.5256 - accuracy: 0.3542 - top5accuracy: 0.6656 - val_loss: 2.4119 - val_accuracy: 0.3884 - val_top5accuracy: 0.6882\n",
            "Epoch 29/75\n",
            "176/176 [==============================] - 134s 761ms/step - loss: 2.4896 - accuracy: 0.3614 - top5accuracy: 0.6739 - val_loss: 2.3737 - val_accuracy: 0.3898 - val_top5accuracy: 0.6922\n",
            "Epoch 30/75\n",
            "176/176 [==============================] - 134s 762ms/step - loss: 2.4619 - accuracy: 0.3689 - top5accuracy: 0.6792 - val_loss: 2.3471 - val_accuracy: 0.3980 - val_top5accuracy: 0.6990\n",
            "Epoch 31/75\n",
            "176/176 [==============================] - 134s 762ms/step - loss: 2.4285 - accuracy: 0.3731 - top5accuracy: 0.6872 - val_loss: 2.3328 - val_accuracy: 0.4050 - val_top5accuracy: 0.7054\n",
            "Epoch 32/75\n",
            "176/176 [==============================] - 134s 761ms/step - loss: 2.3916 - accuracy: 0.3796 - top5accuracy: 0.6948 - val_loss: 2.3103 - val_accuracy: 0.4034 - val_top5accuracy: 0.7094\n",
            "Epoch 33/75\n",
            "176/176 [==============================] - 134s 762ms/step - loss: 2.3688 - accuracy: 0.3847 - top5accuracy: 0.6996 - val_loss: 2.2957 - val_accuracy: 0.4138 - val_top5accuracy: 0.7118\n",
            "Epoch 34/75\n",
            "176/176 [==============================] - 134s 761ms/step - loss: 2.3347 - accuracy: 0.3908 - top5accuracy: 0.7065 - val_loss: 2.2825 - val_accuracy: 0.4172 - val_top5accuracy: 0.7114\n",
            "Epoch 35/75\n",
            "176/176 [==============================] - 134s 762ms/step - loss: 2.3019 - accuracy: 0.3976 - top5accuracy: 0.7125 - val_loss: 2.2525 - val_accuracy: 0.4284 - val_top5accuracy: 0.7168\n",
            "Epoch 36/75\n",
            "176/176 [==============================] - 134s 762ms/step - loss: 2.2797 - accuracy: 0.3998 - top5accuracy: 0.7173 - val_loss: 2.2197 - val_accuracy: 0.4288 - val_top5accuracy: 0.7208\n",
            "Epoch 37/75\n",
            "176/176 [==============================] - 134s 762ms/step - loss: 2.2424 - accuracy: 0.4142 - top5accuracy: 0.7240 - val_loss: 2.2059 - val_accuracy: 0.4288 - val_top5accuracy: 0.7262\n",
            "Epoch 38/75\n",
            "176/176 [==============================] - 134s 761ms/step - loss: 2.2100 - accuracy: 0.4190 - top5accuracy: 0.7318 - val_loss: 2.1922 - val_accuracy: 0.4396 - val_top5accuracy: 0.7340\n",
            "Epoch 39/75\n",
            "176/176 [==============================] - 134s 761ms/step - loss: 2.1949 - accuracy: 0.4219 - top5accuracy: 0.7362 - val_loss: 2.1963 - val_accuracy: 0.4356 - val_top5accuracy: 0.7348\n",
            "Epoch 40/75\n",
            "176/176 [==============================] - 134s 761ms/step - loss: 2.1549 - accuracy: 0.4311 - top5accuracy: 0.7445 - val_loss: 2.1794 - val_accuracy: 0.4410 - val_top5accuracy: 0.7388\n",
            "Epoch 41/75\n",
            "176/176 [==============================] - 134s 761ms/step - loss: 2.1298 - accuracy: 0.4341 - top5accuracy: 0.7470 - val_loss: 2.1594 - val_accuracy: 0.4504 - val_top5accuracy: 0.7396\n",
            "Epoch 42/75\n",
            "176/176 [==============================] - 134s 762ms/step - loss: 2.0984 - accuracy: 0.4426 - top5accuracy: 0.7536 - val_loss: 2.1511 - val_accuracy: 0.4490 - val_top5accuracy: 0.7420\n",
            "Epoch 43/75\n",
            "176/176 [==============================] - 134s 761ms/step - loss: 2.0938 - accuracy: 0.4417 - top5accuracy: 0.7559 - val_loss: 2.1330 - val_accuracy: 0.4498 - val_top5accuracy: 0.7440\n",
            "Epoch 44/75\n",
            "176/176 [==============================] - 134s 762ms/step - loss: 2.0542 - accuracy: 0.4502 - top5accuracy: 0.7639 - val_loss: 2.1193 - val_accuracy: 0.4526 - val_top5accuracy: 0.7460\n",
            "Epoch 45/75\n",
            "176/176 [==============================] - 134s 761ms/step - loss: 2.0380 - accuracy: 0.4556 - top5accuracy: 0.7650 - val_loss: 2.1001 - val_accuracy: 0.4562 - val_top5accuracy: 0.7522\n",
            "Epoch 46/75\n",
            "176/176 [==============================] - 134s 762ms/step - loss: 1.9982 - accuracy: 0.4657 - top5accuracy: 0.7741 - val_loss: 2.0953 - val_accuracy: 0.4592 - val_top5accuracy: 0.7528\n",
            "Epoch 47/75\n",
            "176/176 [==============================] - 134s 762ms/step - loss: 1.9731 - accuracy: 0.4670 - top5accuracy: 0.7773 - val_loss: 2.0861 - val_accuracy: 0.4590 - val_top5accuracy: 0.7574\n",
            "Epoch 48/75\n",
            "176/176 [==============================] - 134s 763ms/step - loss: 1.9548 - accuracy: 0.4738 - top5accuracy: 0.7826 - val_loss: 2.0726 - val_accuracy: 0.4640 - val_top5accuracy: 0.7556\n",
            "Epoch 49/75\n",
            "176/176 [==============================] - 134s 763ms/step - loss: 1.9320 - accuracy: 0.4798 - top5accuracy: 0.7861 - val_loss: 2.0500 - val_accuracy: 0.4656 - val_top5accuracy: 0.7600\n",
            "Epoch 50/75\n",
            "176/176 [==============================] - 134s 763ms/step - loss: 1.9053 - accuracy: 0.4851 - top5accuracy: 0.7909 - val_loss: 2.0468 - val_accuracy: 0.4702 - val_top5accuracy: 0.7648\n",
            "Epoch 51/75\n",
            "176/176 [==============================] - 134s 763ms/step - loss: 1.8857 - accuracy: 0.4875 - top5accuracy: 0.7960 - val_loss: 2.0338 - val_accuracy: 0.4688 - val_top5accuracy: 0.7608\n",
            "Epoch 52/75\n",
            "176/176 [==============================] - 134s 762ms/step - loss: 1.8668 - accuracy: 0.4953 - top5accuracy: 0.8007 - val_loss: 2.0226 - val_accuracy: 0.4732 - val_top5accuracy: 0.7690\n",
            "Epoch 53/75\n",
            "176/176 [==============================] - 134s 763ms/step - loss: 1.8375 - accuracy: 0.4982 - top5accuracy: 0.8037 - val_loss: 2.0233 - val_accuracy: 0.4698 - val_top5accuracy: 0.7656\n",
            "Epoch 54/75\n",
            "176/176 [==============================] - 134s 763ms/step - loss: 1.8141 - accuracy: 0.5043 - top5accuracy: 0.8058 - val_loss: 1.9927 - val_accuracy: 0.4750 - val_top5accuracy: 0.7742\n",
            "Epoch 55/75\n",
            "176/176 [==============================] - 134s 762ms/step - loss: 1.7912 - accuracy: 0.5105 - top5accuracy: 0.8113 - val_loss: 1.9975 - val_accuracy: 0.4828 - val_top5accuracy: 0.7726\n",
            "Epoch 56/75\n",
            "176/176 [==============================] - 134s 762ms/step - loss: 1.7800 - accuracy: 0.5106 - top5accuracy: 0.8133 - val_loss: 1.9926 - val_accuracy: 0.4758 - val_top5accuracy: 0.7758\n",
            "Epoch 57/75\n",
            "176/176 [==============================] - 134s 763ms/step - loss: 1.7456 - accuracy: 0.5208 - top5accuracy: 0.8182 - val_loss: 1.9819 - val_accuracy: 0.4828 - val_top5accuracy: 0.7760\n",
            "Epoch 58/75\n",
            "176/176 [==============================] - 134s 762ms/step - loss: 1.7336 - accuracy: 0.5246 - top5accuracy: 0.8242 - val_loss: 1.9711 - val_accuracy: 0.4840 - val_top5accuracy: 0.7792\n",
            "Epoch 59/75\n",
            "176/176 [==============================] - 134s 763ms/step - loss: 1.7154 - accuracy: 0.5269 - top5accuracy: 0.8252 - val_loss: 1.9604 - val_accuracy: 0.4884 - val_top5accuracy: 0.7820\n",
            "Epoch 60/75\n",
            "176/176 [==============================] - 135s 765ms/step - loss: 1.6958 - accuracy: 0.5300 - top5accuracy: 0.8301 - val_loss: 1.9470 - val_accuracy: 0.4876 - val_top5accuracy: 0.7846\n",
            "Epoch 61/75\n",
            "176/176 [==============================] - 134s 764ms/step - loss: 1.6772 - accuracy: 0.5370 - top5accuracy: 0.8330 - val_loss: 1.9624 - val_accuracy: 0.4928 - val_top5accuracy: 0.7830\n",
            "Epoch 62/75\n",
            "176/176 [==============================] - 134s 763ms/step - loss: 1.6609 - accuracy: 0.5419 - top5accuracy: 0.8338 - val_loss: 1.9418 - val_accuracy: 0.4934 - val_top5accuracy: 0.7824\n",
            "Epoch 63/75\n",
            "176/176 [==============================] - 134s 763ms/step - loss: 1.6380 - accuracy: 0.5441 - top5accuracy: 0.8382 - val_loss: 1.9381 - val_accuracy: 0.4958 - val_top5accuracy: 0.7800\n",
            "Epoch 64/75\n",
            "176/176 [==============================] - 134s 763ms/step - loss: 1.6129 - accuracy: 0.5493 - top5accuracy: 0.8430 - val_loss: 1.9429 - val_accuracy: 0.4964 - val_top5accuracy: 0.7806\n",
            "Epoch 65/75\n",
            "176/176 [==============================] - 134s 764ms/step - loss: 1.5955 - accuracy: 0.5530 - top5accuracy: 0.8471 - val_loss: 1.9351 - val_accuracy: 0.4962 - val_top5accuracy: 0.7850\n",
            "Epoch 66/75\n",
            "176/176 [==============================] - 134s 764ms/step - loss: 1.5838 - accuracy: 0.5577 - top5accuracy: 0.8468 - val_loss: 1.9358 - val_accuracy: 0.4974 - val_top5accuracy: 0.7858\n",
            "Epoch 67/75\n",
            "176/176 [==============================] - 134s 764ms/step - loss: 1.5635 - accuracy: 0.5591 - top5accuracy: 0.8545 - val_loss: 1.9185 - val_accuracy: 0.4996 - val_top5accuracy: 0.7918\n",
            "Epoch 68/75\n",
            "176/176 [==============================] - 134s 764ms/step - loss: 1.5518 - accuracy: 0.5659 - top5accuracy: 0.8544 - val_loss: 1.9322 - val_accuracy: 0.5066 - val_top5accuracy: 0.7900\n",
            "Epoch 69/75\n",
            "176/176 [==============================] - 134s 763ms/step - loss: 1.5356 - accuracy: 0.5677 - top5accuracy: 0.8576 - val_loss: 1.9212 - val_accuracy: 0.5020 - val_top5accuracy: 0.7884\n",
            "Epoch 70/75\n",
            "176/176 [==============================] - 134s 764ms/step - loss: 1.5098 - accuracy: 0.5779 - top5accuracy: 0.8611 - val_loss: 1.9022 - val_accuracy: 0.5034 - val_top5accuracy: 0.7898\n",
            "Epoch 71/75\n",
            "176/176 [==============================] - 134s 763ms/step - loss: 1.4938 - accuracy: 0.5768 - top5accuracy: 0.8645 - val_loss: 1.9176 - val_accuracy: 0.5038 - val_top5accuracy: 0.7860\n",
            "Epoch 72/75\n",
            "176/176 [==============================] - 134s 764ms/step - loss: 1.4801 - accuracy: 0.5799 - top5accuracy: 0.8677 - val_loss: 1.9083 - val_accuracy: 0.5054 - val_top5accuracy: 0.7864\n",
            "Epoch 73/75\n",
            "176/176 [==============================] - 134s 763ms/step - loss: 1.4607 - accuracy: 0.5875 - top5accuracy: 0.8704 - val_loss: 1.8877 - val_accuracy: 0.5080 - val_top5accuracy: 0.7926\n",
            "Epoch 74/75\n",
            "176/176 [==============================] - 134s 764ms/step - loss: 1.4502 - accuracy: 0.5866 - top5accuracy: 0.8737 - val_loss: 1.9016 - val_accuracy: 0.5068 - val_top5accuracy: 0.7928\n",
            "Epoch 75/75\n",
            "176/176 [==============================] - 134s 764ms/step - loss: 1.4402 - accuracy: 0.5894 - top5accuracy: 0.8732 - val_loss: 1.9030 - val_accuracy: 0.5062 - val_top5accuracy: 0.7936\n",
            "313/313 [==============================] - 15s 48ms/step - loss: 1.8744 - accuracy: 0.5068 - top5accuracy: 0.7894\n",
            "Test accuracy: 50.68%\n"
          ]
        },
        {
          "output_type": "error",
          "ename": "NameError",
          "evalue": "ignored",
          "traceback": [
            "\u001b[0;31m---------------------------------------------------------------------------\u001b[0m",
            "\u001b[0;31mNameError\u001b[0m                                 Traceback (most recent call last)",
            "\u001b[0;32m<ipython-input-13-4534922d1543>\u001b[0m in \u001b[0;36m<module>\u001b[0;34m()\u001b[0m\n\u001b[1;32m     29\u001b[0m \u001b[0;34m\u001b[0m\u001b[0m\n\u001b[1;32m     30\u001b[0m \u001b[0mvit_classifier\u001b[0m \u001b[0;34m=\u001b[0m \u001b[0mcreate_vit_classifier\u001b[0m\u001b[0;34m(\u001b[0m\u001b[0;34m)\u001b[0m\u001b[0;34m\u001b[0m\u001b[0;34m\u001b[0m\u001b[0m\n\u001b[0;32m---> 31\u001b[0;31m \u001b[0mhistory\u001b[0m \u001b[0;34m=\u001b[0m \u001b[0mrun\u001b[0m\u001b[0;34m(\u001b[0m\u001b[0mvit_classifier\u001b[0m\u001b[0;34m)\u001b[0m\u001b[0;34m\u001b[0m\u001b[0;34m\u001b[0m\u001b[0m\n\u001b[0m",
            "\u001b[0;32m<ipython-input-13-4534922d1543>\u001b[0m in \u001b[0;36mrun\u001b[0;34m(model)\u001b[0m\n\u001b[1;32m     24\u001b[0m \u001b[0;34m\u001b[0m\u001b[0m\n\u001b[1;32m     25\u001b[0m   \u001b[0mprint\u001b[0m\u001b[0;34m(\u001b[0m\u001b[0;34mf\"Test accuracy: {round(accuracy * 100, 2)}%\"\u001b[0m\u001b[0;34m)\u001b[0m\u001b[0;34m\u001b[0m\u001b[0;34m\u001b[0m\u001b[0m\n\u001b[0;32m---> 26\u001b[0;31m   \u001b[0mprint\u001b[0m\u001b[0;34m(\u001b[0m\u001b[0;34mf\"Test top 5 accuracy: {round(top_5_accuracy * 100, 2)}%\"\u001b[0m\u001b[0;34m)\u001b[0m\u001b[0;34m\u001b[0m\u001b[0;34m\u001b[0m\u001b[0m\n\u001b[0m\u001b[1;32m     27\u001b[0m \u001b[0;34m\u001b[0m\u001b[0m\n\u001b[1;32m     28\u001b[0m   \u001b[0;32mreturn\u001b[0m \u001b[0mhistory\u001b[0m\u001b[0;34m\u001b[0m\u001b[0;34m\u001b[0m\u001b[0m\n",
            "\u001b[0;31mNameError\u001b[0m: name 'top_5_accuracy' is not defined"
          ]
        }
      ]
    }
  ]
}